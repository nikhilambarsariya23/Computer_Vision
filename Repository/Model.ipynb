{
  "nbformat": 4,
  "nbformat_minor": 0,
  "metadata": {
    "colab": {
      "provenance": []
    },
    "kernelspec": {
      "name": "python3",
      "display_name": "Python 3"
    },
    "language_info": {
      "name": "python"
    }
  },
  "cells": [
    {
      "cell_type": "code",
      "execution_count": null,
      "metadata": {
        "id": "36gtBf1wJgzS"
      },
      "outputs": [],
      "source": [
        "from tensorflow.keras.models import load_model\n",
        "\n",
        "model = load_model('millets_cnn.h5')"
      ]
    },
    {
      "cell_type": "code",
      "source": [
        "from tensorflow.keras.preprocessing.image import ImageDataGenerator\n",
        "datagen = ImageDataGenerator(\n",
        "    rescale = 1./255, # Rescale pixel values between 0 and 1\n",
        "    shear_range = 0.2,\n",
        "    zoom_range = 0.2,\n",
        "    horizontal_flip = True\n",
        ")\n"
      ],
      "metadata": {
        "id": "mIWqVTopK_WI"
      },
      "execution_count": null,
      "outputs": []
    },
    {
      "cell_type": "code",
      "source": [],
      "metadata": {
        "id": "X7Lfp_bRkcGe"
      },
      "execution_count": null,
      "outputs": []
    },
    {
      "cell_type": "code",
      "source": [],
      "metadata": {
        "id": "wx9er9p59aZB"
      },
      "execution_count": null,
      "outputs": []
    },
    {
      "cell_type": "code",
      "source": [
        "import numpy as np\n",
        "from tensorflow.keras.preprocessing import image\n",
        "\n",
        "# Read the uploaded image\n",
        "uploaded_image = image.load_img('c.jpg', target_size=(64, 64))\n",
        "\n",
        "# Preprocess the image\n",
        "preprocessed_image = image.img_to_array(uploaded_image)\n",
        "preprocessed_image = datagen.standardize(preprocessed_image)\n",
        "preprocessed_image = np.expand_dims(preprocessed_image, axis=0)\n",
        "res = model.predict(preprocessed_image)\n",
        "\n",
        "result = np.argmax(res)\n",
        "print(float(res[result][0])*100)\n",
        "if(float(res[result][0])*100>75):\n",
        "  print(f\"Result is Class {result}\")\n",
        "else:\n",
        "  print(\"Model is failed to predict this image\")\n"
      ],
      "metadata": {
        "colab": {
          "base_uri": "https://localhost:8080/"
        },
        "id": "3035wnl09aaL",
        "outputId": "4976a4db-d8b4-4941-a996-44f1bc951c6b"
      },
      "execution_count": null,
      "outputs": [
        {
          "output_type": "stream",
          "name": "stdout",
          "text": [
            "1/1 [==============================] - 0s 27ms/step\n",
            "91.04529023170471\n",
            "Result is Class 0\n"
          ]
        }
      ]
    },
    {
      "cell_type": "code",
      "source": [],
      "metadata": {
        "id": "yS7RQxlhWeVX"
      },
      "execution_count": null,
      "outputs": []
    },
    {
      "cell_type": "code",
      "source": [],
      "metadata": {
        "colab": {
          "base_uri": "https://localhost:8080/"
        },
        "id": "FkFaE33VPEmB",
        "outputId": "74cab492-0223-4a0b-899a-4c1db3974576"
      },
      "execution_count": null,
      "outputs": [
        {
          "output_type": "execute_result",
          "data": {
            "text/plain": [
              "0.9104529"
            ]
          },
          "metadata": {},
          "execution_count": 21
        }
      ]
    },
    {
      "cell_type": "code",
      "source": [
        "import numpy as np\n",
        "from tensorflow.keras.preprocessing import image\n",
        "\n",
        "# Read the uploaded image\n",
        "uploaded_image = image.load_img('d.jpg', target_size=(64, 64))\n",
        "\n",
        "# Preprocess the image\n",
        "preprocessed_image = image.img_to_array(uploaded_image)\n",
        "preprocessed_image = datagen.standardize(preprocessed_image)\n",
        "preprocessed_image = np.expand_dims(preprocessed_image, axis=0)\n",
        "model.predict(preprocessed_image)\n"
      ],
      "metadata": {
        "colab": {
          "base_uri": "https://localhost:8080/"
        },
        "id": "ir6EeyGF9tW5",
        "outputId": "d38292cd-f406-4e5a-b681-20011e4d304e"
      },
      "execution_count": null,
      "outputs": [
        {
          "output_type": "stream",
          "name": "stdout",
          "text": [
            "1/1 [==============================] - 0s 26ms/step\n"
          ]
        },
        {
          "output_type": "execute_result",
          "data": {
            "text/plain": [
              "array([[9.9871731e-01, 4.9545059e-05, 1.2331659e-03, 1.9797392e-10]],\n",
              "      dtype=float32)"
            ]
          },
          "metadata": {},
          "execution_count": 9
        }
      ]
    },
    {
      "cell_type": "code",
      "source": [
        "import numpy as np\n",
        "from tensorflow.keras.preprocessing import image\n",
        "\n",
        "# Read the uploaded image\n",
        "for i in range(1,11):\n",
        "  uploaded_image = image.load_img(f'{i}.jpg', target_size=(64, 64))\n",
        "\n",
        "# Preprocess the image\n",
        "  preprocessed_image = image.img_to_array(uploaded_image)\n",
        "  preprocessed_image = datagen.standardize(preprocessed_image)\n",
        "  preprocessed_image = np.expand_dims(preprocessed_image, axis=0)\n",
        "  res = model.predict(preprocessed_image)\n",
        "  ans={0:\"Basmati_1121\",1:\"Basmati_1509\",2:\"basmati 1718\",3:\"Permal\"}\n",
        "  print(res)\n",
        "  result = np.argmax(res)\n",
        "  print(result)\n",
        "  print(float(res[0][result])*100)\n",
        "  if(float(res[0][result])*100>75):\n",
        "    print(f\"Result is {ans[result]}\")\n",
        "  else:\n",
        "    print(\"Model is failed to predict this image\")"
      ],
      "metadata": {
        "colab": {
          "base_uri": "https://localhost:8080/"
        },
        "id": "UAn7C3vOWjBt",
        "outputId": "82d087bc-b0df-40a8-d104-6426766bf85b"
      },
      "execution_count": null,
      "outputs": [
        {
          "output_type": "stream",
          "name": "stdout",
          "text": [
            "1/1 [==============================] - 0s 42ms/step\n",
            "[[0. 1. 0. 0.]]\n",
            "1\n",
            "100.0\n",
            "Result is Basmati_1509\n",
            "1/1 [==============================] - 0s 38ms/step\n",
            "[[0. 1. 0. 0.]]\n",
            "1\n",
            "100.0\n",
            "Result is Basmati_1509\n",
            "1/1 [==============================] - 0s 36ms/step\n",
            "[[0. 1. 0. 0.]]\n",
            "1\n",
            "100.0\n",
            "Result is Basmati_1509\n",
            "1/1 [==============================] - 0s 43ms/step\n",
            "[[0. 1. 0. 0.]]\n",
            "1\n",
            "100.0\n",
            "Result is Basmati_1509\n",
            "1/1 [==============================] - 0s 41ms/step\n",
            "[[0. 1. 0. 0.]]\n",
            "1\n",
            "100.0\n",
            "Result is Basmati_1509\n",
            "1/1 [==============================] - 0s 44ms/step\n",
            "[[0. 1. 0. 0.]]\n",
            "1\n",
            "100.0\n",
            "Result is Basmati_1509\n",
            "1/1 [==============================] - 0s 33ms/step\n",
            "[[0. 1. 0. 0.]]\n",
            "1\n",
            "100.0\n",
            "Result is Basmati_1509\n",
            "1/1 [==============================] - 0s 32ms/step\n",
            "[[0. 1. 0. 0.]]\n",
            "1\n",
            "100.0\n",
            "Result is Basmati_1509\n",
            "1/1 [==============================] - 0s 29ms/step\n",
            "[[0. 1. 0. 0.]]\n",
            "1\n",
            "100.0\n",
            "Result is Basmati_1509\n",
            "1/1 [==============================] - 0s 30ms/step\n",
            "[[0. 1. 0. 0.]]\n",
            "1\n",
            "100.0\n",
            "Result is Basmati_1509\n"
          ]
        }
      ]
    },
    {
      "cell_type": "code",
      "source": [
        "import numpy as np\n",
        "from tensorflow.keras.preprocessing import image\n",
        "\n",
        "# Read the uploaded image\n",
        "for i in range(1,9):\n",
        "  uploaded_image = image.load_img(f'{i}.jpg', target_size=(64, 64))\n",
        "\n",
        "# Preprocess the image\n",
        "  preprocessed_image = image.img_to_array(uploaded_image)\n",
        "  preprocessed_image = datagen.standardize(preprocessed_image)\n",
        "  preprocessed_image = np.expand_dims(preprocessed_image, axis=0)\n",
        "  res = model.predict(preprocessed_image)\n",
        "  ans={0:\"Basmati_1121\",1:\"Basmati_1509\",2:\"basmati 1718\",3:\"Permal\"}\n",
        "  print(res)\n",
        "  result = np.argmax(res)\n",
        "  print(result)\n",
        "  print(float(res[0][result])*100)\n",
        "  if(float(res[0][result])*100>75):\n",
        "    print(f\"Result is {ans[result]}\")\n",
        "  else:\n",
        "    print(\"Model is failed to predict this image\")\n"
      ],
      "metadata": {
        "colab": {
          "base_uri": "https://localhost:8080/"
        },
        "id": "eJ3opXxIb75u",
        "outputId": "19b0ad38-3f69-4bdc-cfe4-483fd207978d"
      },
      "execution_count": null,
      "outputs": [
        {
          "output_type": "stream",
          "name": "stdout",
          "text": [
            "1/1 [==============================] - 0s 31ms/step\n",
            "[[2.8756478e-08 5.3615943e-09 7.6537263e-11 1.0000000e+00]]\n",
            "3\n",
            "100.0\n",
            "Result is Permal\n",
            "1/1 [==============================] - 0s 31ms/step\n",
            "[[3.4227961e-14 2.6002771e-11 1.2537350e-16 1.0000000e+00]]\n",
            "3\n",
            "100.0\n",
            "Result is Permal\n",
            "1/1 [==============================] - 0s 41ms/step\n",
            "[[6.2008834e-15 1.9643386e-15 5.5263657e-29 1.0000000e+00]]\n",
            "3\n",
            "100.0\n",
            "Result is Permal\n",
            "1/1 [==============================] - 0s 30ms/step\n",
            "[[6.2306711e-09 9.8135445e-08 5.2979145e-21 9.9999988e-01]]\n",
            "3\n",
            "99.99998807907104\n",
            "Result is Permal\n",
            "1/1 [==============================] - 0s 25ms/step\n",
            "[[3.4726702e-06 7.6628858e-06 5.8097811e-11 9.9998891e-01]]\n",
            "3\n",
            "99.99889135360718\n",
            "Result is Permal\n",
            "1/1 [==============================] - 0s 25ms/step\n",
            "[[2.19220198e-11 1.36744045e-11 1.04196060e-21 1.00000000e+00]]\n",
            "3\n",
            "100.0\n",
            "Result is Permal\n",
            "1/1 [==============================] - 0s 25ms/step\n",
            "[[3.7255461e-09 1.2847196e-10 1.8034552e-19 1.0000000e+00]]\n",
            "3\n",
            "100.0\n",
            "Result is Permal\n",
            "1/1 [==============================] - 0s 25ms/step\n",
            "[[1.2443392e-09 1.1119127e-05 8.0551399e-10 9.9998891e-01]]\n",
            "3\n",
            "99.99889135360718\n",
            "Result is Permal\n"
          ]
        }
      ]
    },
    {
      "cell_type": "markdown",
      "source": [],
      "metadata": {
        "id": "RhE02zrVcovk"
      }
    },
    {
      "cell_type": "code",
      "source": [
        "import numpy as np\n",
        "from tensorflow.keras.preprocessing import image\n",
        "\n",
        "# Read the uploaded image\n",
        "for i in range(10,21):\n",
        "  uploaded_image = image.load_img(f'{i}.jpg', target_size=(64, 64))\n",
        "\n",
        "# Preprocess the image\n",
        "  preprocessed_image = image.img_to_array(uploaded_image)\n",
        "  preprocessed_image = datagen.standardize(preprocessed_image)\n",
        "  preprocessed_image = np.expand_dims(preprocessed_image, axis=0)\n",
        "  res = model.predict(preprocessed_image)\n",
        "  ans={0:\"Basmati_1121\",1:\"Basmati_1509\",2:\"basmati 1718\",3:\"Permal\"}\n",
        "  print(res)\n",
        "  result = np.argmax(res)\n",
        "  print(result)\n",
        "  print(float(res[0][result])*100)\n",
        "  if(float(res[0][result])*100>75):\n",
        "    print(f\"Result is {ans[result]}\")\n",
        "  else:\n",
        "    print(\"Model is failed to predict this image\")\n"
      ],
      "metadata": {
        "id": "bWQVkmx8cpJU",
        "outputId": "5ab980d2-56ab-4969-df3a-dc94178f023e",
        "colab": {
          "base_uri": "https://localhost:8080/"
        }
      },
      "execution_count": null,
      "outputs": [
        {
          "output_type": "stream",
          "name": "stdout",
          "text": [
            "1/1 [==============================] - 0s 31ms/step\n",
            "[[6.3328618e-12 9.6024187e-06 9.9999034e-01 1.0493874e-18]]\n",
            "2\n",
            "99.99903440475464\n",
            "Result is basmati 1718\n",
            "1/1 [==============================] - 0s 36ms/step\n",
            "[[5.3367882e-10 9.7015068e-08 9.9999988e-01 8.2982254e-10]]\n",
            "2\n",
            "99.99998807907104\n",
            "Result is basmati 1718\n",
            "1/1 [==============================] - 0s 27ms/step\n",
            "[[3.6683434e-09 1.0353760e-05 9.9998963e-01 1.3766127e-17]]\n",
            "2\n",
            "99.99896287918091\n",
            "Result is basmati 1718\n",
            "1/1 [==============================] - 0s 27ms/step\n",
            "[[1.4707601e-05 2.5363023e-10 9.9998534e-01 3.8235837e-13]]\n",
            "2\n",
            "99.99853372573853\n",
            "Result is basmati 1718\n",
            "1/1 [==============================] - 0s 27ms/step\n",
            "[[1.8934837e-05 1.7151164e-01 8.2846940e-01 7.6736084e-10]]\n",
            "2\n",
            "82.84693956375122\n",
            "Result is basmati 1718\n",
            "1/1 [==============================] - 0s 25ms/step\n",
            "[[1.3645128e-05 3.1295934e-07 9.9998605e-01 2.6101124e-16]]\n",
            "2\n",
            "99.99860525131226\n",
            "Result is basmati 1718\n",
            "1/1 [==============================] - 0s 25ms/step\n",
            "[[0.0811756  0.01093297 0.90524507 0.00264641]]\n",
            "2\n",
            "90.52450656890869\n",
            "Result is basmati 1718\n",
            "1/1 [==============================] - 0s 26ms/step\n",
            "[[2.0951341e-09 3.3706357e-11 1.0000000e+00 5.1841598e-21]]\n",
            "2\n",
            "100.0\n",
            "Result is basmati 1718\n",
            "1/1 [==============================] - 0s 25ms/step\n",
            "[[2.4968337e-03 7.4377254e-05 9.1985315e-01 7.7575631e-02]]\n",
            "2\n",
            "91.9853150844574\n",
            "Result is basmati 1718\n",
            "1/1 [==============================] - 0s 29ms/step\n",
            "[[3.0073516e-06 3.5417695e-06 9.9999344e-01 2.9047833e-13]]\n",
            "2\n",
            "99.99934434890747\n",
            "Result is basmati 1718\n",
            "1/1 [==============================] - 0s 29ms/step\n",
            "[[3.1484403e-15 5.6873437e-04 9.9943119e-01 2.8088083e-22]]\n",
            "2\n",
            "99.94311928749084\n",
            "Result is basmati 1718\n"
          ]
        }
      ]
    }
  ]
}